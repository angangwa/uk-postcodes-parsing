{
 "cells": [
  {
   "cell_type": "markdown",
   "metadata": {},
   "source": [
    "# Extracting postcodes from ONSPDF\n",
    "\n",
    "1. Manually Download .zip for ONS Postcode Directory. \n",
    "    \n",
    "    November 2024 version can be downloaded here: https://geoportal.statistics.gov.uk/datasets/b54177d3d7264cd6ad89e74dd9c1391d/about\n",
    "\n",
    "2. Manually Unzip the files\n",
    "\n",
    "3. Use this notebook to process into a DataFrame"
   ]
  },
  {
   "cell_type": "code",
   "execution_count": 1,
   "metadata": {},
   "outputs": [],
   "source": [
    "import os\n",
    "import pandas as pd"
   ]
  },
  {
   "cell_type": "markdown",
   "metadata": {},
   "source": [
    "## Get a Pandas DataFrame"
   ]
  },
  {
   "cell_type": "code",
   "execution_count": 2,
   "metadata": {},
   "outputs": [],
   "source": [
    "COLUMN_MAP = {\n",
    "    \"pcd\": \"postcode\",\n",
    "    \"dointr\": \"date_of_introduction\",\n",
    "    \"doterm\": \"date_of_termination\",\n",
    "    \"ctry\": \"country\",\n",
    "    \"lat\": \"latitude\",\n",
    "    \"long\": \"longitude\"\n",
    "}\n",
    "\n",
    "COUNTRY_MAP = {\n",
    "    \"E92000001\": \"England\",\n",
    "    \"W92000004\": \"Wales\",\n",
    "    \"S92000003\": \"Scotland\",\n",
    "    \"N92000002\": \"Northern Ireland\",\n",
    "    \"L93000001\": \"Channel Islands\",\n",
    "    \"M83000003\": \"Isle of Man\"\n",
    "}    \n",
    "\n",
    "def list_csv(directory):\n",
    "    return [f\"{directory}/{f}\" for f in os.listdir(directory) if f.endswith('.csv')]\n",
    "\n",
    "def normaize_passcode(postcode: str) -> str:\n",
    "    postcode = postcode.replace(\" \", \"\")\n",
    "    return f\"{postcode[:-3]} {postcode[-3:]}\"\n",
    "\n",
    "def get_outcode(postcode: str) -> str:\n",
    "    return postcode.split(\" \")[0]\n",
    "\n",
    "def extract_postcode_data(data: pd.DataFrame) -> pd.DataFrame:\n",
    "    postcodes = data.rename(columns=COLUMN_MAP)\n",
    "    postcodes = postcodes[COLUMN_MAP.values()]\n",
    "    postcodes[\"active\"] = postcodes[\"date_of_termination\"].isna()\n",
    "    postcodes[\"country\"] = postcodes[\"country\"].apply(lambda code: COUNTRY_MAP[code])\n",
    "    postcodes[\"postcode\"] = postcodes[\"postcode\"].apply(normaize_passcode)\n",
    "    postcodes[\"outcode\"] = postcodes[\"postcode\"].apply(get_outcode)\n",
    "    return postcodes\n",
    "\n",
    "def summarize_postcode_data(df: pd.DataFrame) -> pd.DataFrame:\n",
    "    # Num active and num terminated\n",
    "    active = df[\"active\"].value_counts()\n",
    "    print(f\"Total postcodes: {df.shape[0]:,}\")\n",
    "    print(f\"Active: {active[True]:,}\")\n",
    "    print(f\"Terminated: {active[False]:,}\")\n",
    "    # Oldest and newest\n",
    "    oldest = df[\"date_of_introduction\"].min()\n",
    "    newest = df[\"date_of_termination\"].max()\n",
    "    print(f\"Oldest: {oldest}\")\n",
    "    print(f\"Newest: {newest}\")\n",
    "    # Num unique outcodes\n",
    "    unique_outcodes = df[\"outcode\"].nunique()\n",
    "    print(f\"Unique outcodes: {unique_outcodes:,}\")\n",
    "\n",
    "def combine_multi_csv(multi_csv_path: str, summarize=True) -> pd.DataFrame:\n",
    "    files = list_csv(multi_csv_path)\n",
    "    df_list = []\n",
    "    for csv in files:\n",
    "        data = pd.read_csv(csv, usecols=COLUMN_MAP.keys())\n",
    "        df_list.append(extract_postcode_data(data))\n",
    "    combined = pd.concat(df_list, axis=0) \n",
    "    combined[\"date_of_introduction\"] = pd.to_datetime(combined[\"date_of_introduction\"], format=\"%Y%m\")\n",
    "    combined[\"date_of_termination\"] = pd.to_datetime(combined[\"date_of_termination\"], format=\"%Y%m\")\n",
    "    if summarize:\n",
    "        summarize_postcode_data(combined)\n",
    "    return combined.reset_index(drop=True)"
   ]
  },
  {
   "cell_type": "code",
   "execution_count": 4,
   "metadata": {},
   "outputs": [
    {
     "name": "stdout",
     "output_type": "stream",
     "text": [
      "Total postcodes: 2,690,850\n",
      "Active: 1,794,831\n",
      "Terminated: 896,019\n",
      "Oldest: 1973-08-01 00:00:00\n",
      "Newest: 2023-04-01 00:00:00\n",
      "Unique outcodes: 3,118\n"
     ]
    }
   ],
   "source": [
    "# commented out as newer version is available\n",
    "# onspd_data_may_2023 = combine_multi_csv(\"ONSPD_MAY_2023_UK/Data/multi_csv/\")"
   ]
  },
  {
   "cell_type": "code",
   "execution_count": 3,
   "metadata": {},
   "outputs": [
    {
     "name": "stdout",
     "output_type": "stream",
     "text": [
      "Total postcodes: 2,709,657\n",
      "Active: 1,802,382\n",
      "Terminated: 907,275\n",
      "Oldest: 1973-08-01 00:00:00\n",
      "Newest: 2024-10-01 00:00:00\n",
      "Unique outcodes: 3,120\n"
     ]
    }
   ],
   "source": [
    "onspd_data_november_2024 = combine_multi_csv(\"ONSPD_NOV_2024/Data/multi_csv/\")"
   ]
  },
  {
   "cell_type": "code",
   "execution_count": 4,
   "metadata": {},
   "outputs": [
    {
     "data": {
      "text/html": [
       "<div>\n",
       "<style scoped>\n",
       "    .dataframe tbody tr th:only-of-type {\n",
       "        vertical-align: middle;\n",
       "    }\n",
       "\n",
       "    .dataframe tbody tr th {\n",
       "        vertical-align: top;\n",
       "    }\n",
       "\n",
       "    .dataframe thead th {\n",
       "        text-align: right;\n",
       "    }\n",
       "</style>\n",
       "<table border=\"1\" class=\"dataframe\">\n",
       "  <thead>\n",
       "    <tr style=\"text-align: right;\">\n",
       "      <th></th>\n",
       "      <th>postcode</th>\n",
       "      <th>date_of_introduction</th>\n",
       "      <th>date_of_termination</th>\n",
       "      <th>country</th>\n",
       "      <th>latitude</th>\n",
       "      <th>longitude</th>\n",
       "      <th>active</th>\n",
       "      <th>outcode</th>\n",
       "    </tr>\n",
       "  </thead>\n",
       "  <tbody>\n",
       "    <tr>\n",
       "      <th>0</th>\n",
       "      <td>PH1 0AA</td>\n",
       "      <td>2020-08-01</td>\n",
       "      <td>NaT</td>\n",
       "      <td>Scotland</td>\n",
       "      <td>56.424756</td>\n",
       "      <td>-3.490495</td>\n",
       "      <td>True</td>\n",
       "      <td>PH1</td>\n",
       "    </tr>\n",
       "    <tr>\n",
       "      <th>1</th>\n",
       "      <td>PH1 0AB</td>\n",
       "      <td>2021-01-01</td>\n",
       "      <td>NaT</td>\n",
       "      <td>Scotland</td>\n",
       "      <td>56.424423</td>\n",
       "      <td>-3.490547</td>\n",
       "      <td>True</td>\n",
       "      <td>PH1</td>\n",
       "    </tr>\n",
       "    <tr>\n",
       "      <th>2</th>\n",
       "      <td>PH1 0AD</td>\n",
       "      <td>2018-12-01</td>\n",
       "      <td>NaT</td>\n",
       "      <td>Scotland</td>\n",
       "      <td>56.423863</td>\n",
       "      <td>-3.489277</td>\n",
       "      <td>True</td>\n",
       "      <td>PH1</td>\n",
       "    </tr>\n",
       "    <tr>\n",
       "      <th>3</th>\n",
       "      <td>PH1 0AE</td>\n",
       "      <td>2019-05-01</td>\n",
       "      <td>NaT</td>\n",
       "      <td>Scotland</td>\n",
       "      <td>56.423845</td>\n",
       "      <td>-3.490784</td>\n",
       "      <td>True</td>\n",
       "      <td>PH1</td>\n",
       "    </tr>\n",
       "    <tr>\n",
       "      <th>4</th>\n",
       "      <td>PH1 0AF</td>\n",
       "      <td>2018-12-01</td>\n",
       "      <td>NaT</td>\n",
       "      <td>Scotland</td>\n",
       "      <td>56.423755</td>\n",
       "      <td>-3.491526</td>\n",
       "      <td>True</td>\n",
       "      <td>PH1</td>\n",
       "    </tr>\n",
       "    <tr>\n",
       "      <th>...</th>\n",
       "      <td>...</td>\n",
       "      <td>...</td>\n",
       "      <td>...</td>\n",
       "      <td>...</td>\n",
       "      <td>...</td>\n",
       "      <td>...</td>\n",
       "      <td>...</td>\n",
       "      <td>...</td>\n",
       "    </tr>\n",
       "    <tr>\n",
       "      <th>2709652</th>\n",
       "      <td>GL9 1YB</td>\n",
       "      <td>2003-04-01</td>\n",
       "      <td>2006-03-01</td>\n",
       "      <td>England</td>\n",
       "      <td>51.636707</td>\n",
       "      <td>-2.158766</td>\n",
       "      <td>False</td>\n",
       "      <td>GL9</td>\n",
       "    </tr>\n",
       "    <tr>\n",
       "      <th>2709653</th>\n",
       "      <td>GL9 1YD</td>\n",
       "      <td>2000-06-01</td>\n",
       "      <td>2001-05-01</td>\n",
       "      <td>England</td>\n",
       "      <td>51.567158</td>\n",
       "      <td>-2.308106</td>\n",
       "      <td>False</td>\n",
       "      <td>GL9</td>\n",
       "    </tr>\n",
       "    <tr>\n",
       "      <th>2709654</th>\n",
       "      <td>GL9 1YE</td>\n",
       "      <td>2000-06-01</td>\n",
       "      <td>2006-02-01</td>\n",
       "      <td>England</td>\n",
       "      <td>51.636707</td>\n",
       "      <td>-2.158766</td>\n",
       "      <td>False</td>\n",
       "      <td>GL9</td>\n",
       "    </tr>\n",
       "    <tr>\n",
       "      <th>2709655</th>\n",
       "      <td>GL9 1YJ</td>\n",
       "      <td>2001-12-01</td>\n",
       "      <td>2011-03-01</td>\n",
       "      <td>England</td>\n",
       "      <td>51.636707</td>\n",
       "      <td>-2.158766</td>\n",
       "      <td>False</td>\n",
       "      <td>GL9</td>\n",
       "    </tr>\n",
       "    <tr>\n",
       "      <th>2709656</th>\n",
       "      <td>GL9 1ZR</td>\n",
       "      <td>2002-10-01</td>\n",
       "      <td>2003-04-01</td>\n",
       "      <td>England</td>\n",
       "      <td>51.636707</td>\n",
       "      <td>-2.158766</td>\n",
       "      <td>False</td>\n",
       "      <td>GL9</td>\n",
       "    </tr>\n",
       "  </tbody>\n",
       "</table>\n",
       "<p>2709657 rows × 8 columns</p>\n",
       "</div>"
      ],
      "text/plain": [
       "        postcode date_of_introduction date_of_termination   country  \\\n",
       "0        PH1 0AA           2020-08-01                 NaT  Scotland   \n",
       "1        PH1 0AB           2021-01-01                 NaT  Scotland   \n",
       "2        PH1 0AD           2018-12-01                 NaT  Scotland   \n",
       "3        PH1 0AE           2019-05-01                 NaT  Scotland   \n",
       "4        PH1 0AF           2018-12-01                 NaT  Scotland   \n",
       "...          ...                  ...                 ...       ...   \n",
       "2709652  GL9 1YB           2003-04-01          2006-03-01   England   \n",
       "2709653  GL9 1YD           2000-06-01          2001-05-01   England   \n",
       "2709654  GL9 1YE           2000-06-01          2006-02-01   England   \n",
       "2709655  GL9 1YJ           2001-12-01          2011-03-01   England   \n",
       "2709656  GL9 1ZR           2002-10-01          2003-04-01   England   \n",
       "\n",
       "          latitude  longitude  active outcode  \n",
       "0        56.424756  -3.490495    True     PH1  \n",
       "1        56.424423  -3.490547    True     PH1  \n",
       "2        56.423863  -3.489277    True     PH1  \n",
       "3        56.423845  -3.490784    True     PH1  \n",
       "4        56.423755  -3.491526    True     PH1  \n",
       "...            ...        ...     ...     ...  \n",
       "2709652  51.636707  -2.158766   False     GL9  \n",
       "2709653  51.567158  -2.308106   False     GL9  \n",
       "2709654  51.636707  -2.158766   False     GL9  \n",
       "2709655  51.636707  -2.158766   False     GL9  \n",
       "2709656  51.636707  -2.158766   False     GL9  \n",
       "\n",
       "[2709657 rows x 8 columns]"
      ]
     },
     "execution_count": 4,
     "metadata": {},
     "output_type": "execute_result"
    }
   ],
   "source": [
    "onspd_data_november_2024"
   ]
  },
  {
   "cell_type": "markdown",
   "metadata": {},
   "source": [
    "### Analyze\n",
    "\n",
    "In this example, Postcode introduction and termination by year."
   ]
  },
  {
   "cell_type": "code",
   "execution_count": 11,
   "metadata": {},
   "outputs": [
    {
     "data": {
      "text/plain": [
       "<Axes: xlabel='Year'>"
      ]
     },
     "execution_count": 11,
     "metadata": {},
     "output_type": "execute_result"
    },
    {
     "data": {
      "image/png": "[encoded data removed]",
      "text/plain": [
       "<Figure size 640x480 with 1 Axes>"
      ]
     },
     "metadata": {},
     "output_type": "display_data"
    }
   ],
   "source": [
    "data = onspd_data_november_2024[onspd_data_november_2024.date_of_introduction.dt.year >= 1970]\n",
    "data.groupby(data.date_of_introduction.dt.year).count()[\"date_of_introduction\"].plot(legend=True, xlabel=\"Year\")\n",
    "data.groupby(data.date_of_termination.dt.year).count()[\"date_of_termination\"].plot(legend=True, xlabel=\"Year\")"
   ]
  },
  {
   "cell_type": "code",
   "execution_count": 12,
   "metadata": {},
   "outputs": [
    {
     "data": {
      "text/plain": [
       "<Axes: xlabel='Month'>"
      ]
     },
     "execution_count": 12,
     "metadata": {},
     "output_type": "execute_result"
    },
    {
     "data": {
      "image/png": "[encoded data removed]",
      "text/plain": [
       "<Figure size 640x480 with 1 Axes>"
      ]
     },
     "metadata": {},
     "output_type": "display_data"
    }
   ],
   "source": [
    "data = onspd_data_november_2024[onspd_data_november_2024.date_of_introduction.dt.year >= 2023]\n",
    "data.groupby(data.date_of_introduction.dt.month).count()[\"date_of_introduction\"].plot(legend=True, xlabel=\"Month\")\n",
    "data.groupby(data.date_of_termination.dt.month).count()[\"date_of_termination\"].plot(legend=True, xlabel=\"Month\")"
   ]
  },
  {
   "cell_type": "markdown",
   "metadata": {},
   "source": [
    "## Create a Python file with active postcodes (set of strings)\n",
    "\n",
    "This is the format used in the library."
   ]
  },
  {
   "cell_type": "code",
   "execution_count": 16,
   "metadata": {},
   "outputs": [
    {
     "name": "stdout",
     "output_type": "stream",
     "text": [
      "There are 1,802,382 active postcodes in May 2023\n"
     ]
    }
   ],
   "source": [
    "active_postcodes = onspd_data_november_2024[onspd_data_november_2024[\"active\"]][\"postcode\"].to_list()\n",
    "print(f\"There are {len(active_postcodes):,} active postcodes in May 2023\")\n",
    "set_str = str(set(active_postcodes))\n",
    "\n",
    "filename = \"postcodes_nov_2024.py\"\n",
    "write_str = f\"POSTCODE_NOV_2024 = {set_str}\"\n",
    "\n",
    "with open(filename, \"w\") as f:\n",
    "    f.write(write_str)"
   ]
  },
  {
   "cell_type": "code",
   "execution_count": null,
   "metadata": {},
   "outputs": [],
   "source": []
  }
 ],
 "metadata": {
  "kernelspec": {
   "display_name": "3.11.10",
   "language": "python",
   "name": "python3"
  },
  "language_info": {
   "codemirror_mode": {
    "name": "ipython",
    "version": 3
   },
   "file_extension": ".py",
   "mimetype": "text/x-python",
   "name": "python",
   "nbconvert_exporter": "python",
   "pygments_lexer": "ipython3",
   "version": "3.11.10"
  },
  "orig_nbformat": 4
 },
 "nbformat": 4,
 "nbformat_minor": 2
}
